{
 "cells": [
  {
   "cell_type": "markdown",
   "id": "0ff6ae1e",
   "metadata": {},
   "source": [
    "# # Semana 03\n",
    "Ayquipa Estrada Jheremy William"
   ]
  },
  {
   "cell_type": "raw",
   "id": "cc293114",
   "metadata": {},
   "source": [
    "# Temas:\n",
    "    1. Números\n",
    "    2. Variables\n",
    "    3. Manejo de cadenas\n",
    "    4. Ingreso de datos por teclado\n",
    "    5. Operadores"
   ]
  },
  {
   "cell_type": "markdown",
   "id": "337a97cd",
   "metadata": {},
   "source": [
    "4. Ingreso de datos por teclado"
   ]
  },
  {
   "cell_type": "code",
   "execution_count": 3,
   "id": "82af2b1c",
   "metadata": {},
   "outputs": [
    {
     "name": "stdout",
     "output_type": "stream",
     "text": [
      "¿Cuales tu nombre?\n",
      "Jheremy Ayquipa\n",
      "Hola Jheremy Ayquipa\n"
     ]
    }
   ],
   "source": [
    "#Funcion input()\n",
    "print(\"¿Cuales tu nombre?\")\n",
    "nombre = input()\n",
    "print (\"Hola \" + nombre)"
   ]
  },
  {
   "cell_type": "code",
   "execution_count": 5,
   "id": "aef80c44",
   "metadata": {},
   "outputs": [
    {
     "name": "stdout",
     "output_type": "stream",
     "text": [
      "Numero 1: \n",
      "789\n",
      "Numero 2: \n",
      "735\n",
      "El resultado es 1524\n"
     ]
    }
   ],
   "source": [
    "#Cuando ingreso a un valor por teclado lo hace como cadena\n",
    "print(\"Numero 1: \")\n",
    "numero1 = input()\n",
    "print(\"Numero 2: \")\n",
    "numero2 = input()\n",
    "numero3 = int(numero1) + int(numero2)\n",
    "print(f\"El resultado es {numero3}\")"
   ]
  },
  {
   "cell_type": "code",
   "execution_count": null,
   "id": "9a292b34",
   "metadata": {},
   "outputs": [],
   "source": []
  }
 ],
 "metadata": {
  "kernelspec": {
   "display_name": "Python 3 (ipykernel)",
   "language": "python",
   "name": "python3"
  },
  "language_info": {
   "codemirror_mode": {
    "name": "ipython",
    "version": 3
   },
   "file_extension": ".py",
   "mimetype": "text/x-python",
   "name": "python",
   "nbconvert_exporter": "python",
   "pygments_lexer": "ipython3",
   "version": "3.9.13"
  }
 },
 "nbformat": 4,
 "nbformat_minor": 5
}
