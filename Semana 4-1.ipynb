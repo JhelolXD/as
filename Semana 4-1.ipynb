{
 "cells": [
  {
   "cell_type": "markdown",
   "id": "a12ac354",
   "metadata": {},
   "source": [
    "# Coleccion de datos"
   ]
  },
  {
   "cell_type": "code",
   "execution_count": 3,
   "id": "8bb868fa",
   "metadata": {},
   "outputs": [
    {
     "name": "stdout",
     "output_type": "stream",
     "text": [
      "['Asuncion', 'Ayquipa', 'Barzola', 'Caman']\n"
     ]
    }
   ],
   "source": [
    "#Es una coleccion de elementos que puede ser ordenada, modificada, etc\n",
    "#Se identifica por los corchetes\n",
    "#Ejemplo\n",
    "aula =['Asuncion', 'Ayquipa', 'Barzola', 'Caman']\n",
    "print(aula)"
   ]
  },
  {
   "cell_type": "code",
   "execution_count": 5,
   "id": "53c3d856",
   "metadata": {},
   "outputs": [
    {
     "data": {
      "text/plain": [
       "['Asuncion', 'Ayquipa', 'Barzola', 'Caman']"
      ]
     },
     "execution_count": 5,
     "metadata": {},
     "output_type": "execute_result"
    }
   ],
   "source": [
    "aula"
   ]
  },
  {
   "cell_type": "code",
   "execution_count": 7,
   "id": "cc921f5e",
   "metadata": {},
   "outputs": [
    {
     "name": "stdout",
     "output_type": "stream",
     "text": [
      "Asuncion\n",
      "Ayquipa\n"
     ]
    }
   ],
   "source": [
    "print(aula[0])\n",
    "print(aula[1])"
   ]
  },
  {
   "cell_type": "code",
   "execution_count": 9,
   "id": "1b016f1b",
   "metadata": {},
   "outputs": [
    {
     "data": {
      "text/plain": [
       "'Chavez'"
      ]
     },
     "execution_count": 9,
     "metadata": {},
     "output_type": "execute_result"
    }
   ],
   "source": [
    "aula[1] = 'Chavez'\n",
    "aula[1]"
   ]
  },
  {
   "cell_type": "code",
   "execution_count": 11,
   "id": "c119eb4b",
   "metadata": {},
   "outputs": [
    {
     "data": {
      "text/plain": [
       "['Asuncion', 'Chavez', 'Barzola', 'Caman']"
      ]
     },
     "execution_count": 11,
     "metadata": {},
     "output_type": "execute_result"
    }
   ],
   "source": [
    "aula"
   ]
  },
  {
   "cell_type": "code",
   "execution_count": 14,
   "id": "9baf1c41",
   "metadata": {},
   "outputs": [
    {
     "data": {
      "text/plain": [
       "['Asuncion',\n",
       " 'Chavez',\n",
       " 'Barzola',\n",
       " 'Caman',\n",
       " 'Curo ',\n",
       " 'Curo ',\n",
       " 'Barzola',\n",
       " 'Curo ',\n",
       " 'Barzola']"
      ]
     },
     "execution_count": 14,
     "metadata": {},
     "output_type": "execute_result"
    }
   ],
   "source": [
    "#Agregar elemento apped\n",
    "aula.append(\"Curo \")\n",
    "aula.append(\"Barzola\")\n",
    "aula"
   ]
  },
  {
   "cell_type": "code",
   "execution_count": 17,
   "id": "a306dc81",
   "metadata": {},
   "outputs": [
    {
     "ename": "ValueError",
     "evalue": "list.remove(x): x not in list",
     "output_type": "error",
     "traceback": [
      "\u001b[1;31m---------------------------------------------------------------------------\u001b[0m",
      "\u001b[1;31mValueError\u001b[0m                                Traceback (most recent call last)",
      "\u001b[1;32m~\\AppData\\Local\\Temp\\ipykernel_11480\\1830681035.py\u001b[0m in \u001b[0;36m<module>\u001b[1;34m\u001b[0m\n\u001b[0;32m      1\u001b[0m \u001b[1;31m#Eliminar elementos de lista\u001b[0m\u001b[1;33m\u001b[0m\u001b[1;33m\u001b[0m\u001b[0m\n\u001b[1;32m----> 2\u001b[1;33m \u001b[0maula\u001b[0m\u001b[1;33m.\u001b[0m\u001b[0mremove\u001b[0m\u001b[1;33m(\u001b[0m\u001b[1;34m\"Asuncion\"\u001b[0m\u001b[1;33m)\u001b[0m\u001b[1;33m\u001b[0m\u001b[1;33m\u001b[0m\u001b[0m\n\u001b[0m\u001b[0;32m      3\u001b[0m \u001b[0maula\u001b[0m\u001b[1;33m\u001b[0m\u001b[1;33m\u001b[0m\u001b[0m\n",
      "\u001b[1;31mValueError\u001b[0m: list.remove(x): x not in list"
     ]
    }
   ],
   "source": [
    "#Eliminar elementos de lista\n",
    "aula.remove(\"Asuncion\")\n",
    "aula"
   ]
  },
  {
   "cell_type": "code",
   "execution_count": 19,
   "id": "609bde1e",
   "metadata": {},
   "outputs": [
    {
     "data": {
      "text/plain": [
       "['Chavez', 'Barzola', 'Caman', 'Curo ', 'Curo ', 'Barzola', 'Curo ', 'Barzola']"
      ]
     },
     "execution_count": 19,
     "metadata": {},
     "output_type": "execute_result"
    }
   ],
   "source": [
    "aula"
   ]
  },
  {
   "cell_type": "code",
   "execution_count": 21,
   "id": "546c7a02",
   "metadata": {},
   "outputs": [
    {
     "data": {
      "text/plain": [
       "['Chavez', 'Caman', 'Curo ', 'Curo ', 'Curo ', 'Barzola']"
      ]
     },
     "execution_count": 21,
     "metadata": {},
     "output_type": "execute_result"
    }
   ],
   "source": [
    "aula.remove(\"Barzola\")\n",
    "aula"
   ]
  },
  {
   "cell_type": "code",
   "execution_count": 23,
   "id": "8a490e6a",
   "metadata": {},
   "outputs": [
    {
     "data": {
      "text/plain": [
       "6"
      ]
     },
     "execution_count": 23,
     "metadata": {},
     "output_type": "execute_result"
    }
   ],
   "source": [
    "len(aula)"
   ]
  },
  {
   "cell_type": "code",
   "execution_count": 26,
   "id": "ee97b338",
   "metadata": {},
   "outputs": [
    {
     "name": "stdout",
     "output_type": "stream",
     "text": [
      "Chavez\n",
      "Caman\n",
      "Curo \n",
      "Curo \n",
      "Curo \n",
      "Barzola\n"
     ]
    }
   ],
   "source": [
    "#Para recorrer podemos utilizar una estructura repetitiva\n",
    "for alumno in aula:\n",
    "    print(alumno)"
   ]
  },
  {
   "cell_type": "code",
   "execution_count": 28,
   "id": "764e5333",
   "metadata": {},
   "outputs": [
    {
     "data": {
      "text/plain": [
       "['Chavez', 'Caman', 'Curo ', 'Curo ', 'Curo ', 'Barzola']"
      ]
     },
     "execution_count": 28,
     "metadata": {},
     "output_type": "execute_result"
    }
   ],
   "source": [
    "#Invertir una lista \n",
    "aula.reverse()\n",
    "aula"
   ]
  },
  {
   "cell_type": "code",
   "execution_count": 30,
   "id": "b1e41b49",
   "metadata": {},
   "outputs": [
    {
     "data": {
      "text/plain": [
       "['Barzola', 'Caman', 'Chavez', 'Curo ', 'Curo ', 'Curo ']"
      ]
     },
     "execution_count": 30,
     "metadata": {},
     "output_type": "execute_result"
    }
   ],
   "source": [
    "#Ordenar la lista como anterior \n",
    "aula.sort()\n",
    "aula"
   ]
  },
  {
   "cell_type": "code",
   "execution_count": 31,
   "id": "998d933f",
   "metadata": {},
   "outputs": [],
   "source": [
    "#Es una coleccion de elementos ordenados que no se pueden modificar, inalterable\n",
    "#No se pueden agregar ni eliminar elementos\n",
    "#Se identifica por los parentesis"
   ]
  },
  {
   "cell_type": "code",
   "execution_count": 33,
   "id": "98ab56be",
   "metadata": {},
   "outputs": [
    {
     "data": {
      "text/plain": [
       "('Asuncion', 'Ayquipa', 'Barzola', 'Caman')"
      ]
     },
     "execution_count": 33,
     "metadata": {},
     "output_type": "execute_result"
    }
   ],
   "source": [
    "tupla_aula =('Asuncion', 'Ayquipa', 'Barzola', 'Caman')\n",
    "tupla_aula"
   ]
  },
  {
   "cell_type": "code",
   "execution_count": 39,
   "id": "3f2af26d",
   "metadata": {},
   "outputs": [
    {
     "name": "stdout",
     "output_type": "stream",
     "text": [
      "Asuncion\n",
      "Ayquipa\n",
      "Barzola\n",
      "Caman\n"
     ]
    }
   ],
   "source": [
    "#Se puede recorrer las estructuras repetitivas, usando for\n",
    "for alumno in tupla_aula:\n",
    "    print(alumno)"
   ]
  },
  {
   "cell_type": "code",
   "execution_count": 46,
   "id": "6b0bb80e",
   "metadata": {},
   "outputs": [
    {
     "data": {
      "text/plain": [
       "4"
      ]
     },
     "execution_count": 46,
     "metadata": {},
     "output_type": "execute_result"
    }
   ],
   "source": [
    "len(tupla_aula)"
   ]
  },
  {
   "cell_type": "code",
   "execution_count": 49,
   "id": "6b3b0d68",
   "metadata": {},
   "outputs": [
    {
     "data": {
      "text/plain": [
       "'Barzola'"
      ]
     },
     "execution_count": 49,
     "metadata": {},
     "output_type": "execute_result"
    }
   ],
   "source": [
    "tupla_aula[2]"
   ]
  },
  {
   "cell_type": "code",
   "execution_count": 54,
   "id": "8fbb98a2",
   "metadata": {},
   "outputs": [
    {
     "data": {
      "text/plain": [
       "{'Asuncion', 'Ayquipa', 'Barzola', 'Caman'}"
      ]
     },
     "execution_count": 54,
     "metadata": {},
     "output_type": "execute_result"
    }
   ],
   "source": [
    "conjunto_aula ={'Asuncion', 'Ayquipa', 'Barzola', 'Caman'}\n",
    "conjunto_aula"
   ]
  },
  {
   "cell_type": "code",
   "execution_count": 59,
   "id": "20b4ca3d",
   "metadata": {},
   "outputs": [
    {
     "ename": "IndentationError",
     "evalue": "expected an indented block (83301414.py, line 2)",
     "output_type": "error",
     "traceback": [
      "\u001b[1;36m  File \u001b[1;32m\"C:\\Users\\Alumno\\AppData\\Local\\Temp\\ipykernel_11480\\83301414.py\"\u001b[1;36m, line \u001b[1;32m2\u001b[0m\n\u001b[1;33m    print(alumno)\u001b[0m\n\u001b[1;37m    ^\u001b[0m\n\u001b[1;31mIndentationError\u001b[0m\u001b[1;31m:\u001b[0m expected an indented block\n"
     ]
    }
   ],
   "source": [
    "for alumno in conjunto_aula:\n",
    "print(alumno)"
   ]
  },
  {
   "cell_type": "code",
   "execution_count": 60,
   "id": "b2072aa3",
   "metadata": {},
   "outputs": [],
   "source": [
    "#Observacio: nose piede acceder por posicion pues no considera indexacin\n",
    "#por ejemplo\n",
    "#conjunto_aula[2] devolveria mensaje error"
   ]
  },
  {
   "cell_type": "code",
   "execution_count": 62,
   "id": "b48d3a89",
   "metadata": {},
   "outputs": [
    {
     "data": {
      "text/plain": [
       "{'Asuncion', 'Ayquipa', 'Barzola', 'Caman', 'Curo'}"
      ]
     },
     "execution_count": 62,
     "metadata": {},
     "output_type": "execute_result"
    }
   ],
   "source": [
    "conjunto_aula.add(\"Curo\")\n",
    "conjunto_aula"
   ]
  },
  {
   "cell_type": "code",
   "execution_count": 64,
   "id": "838de6e9",
   "metadata": {},
   "outputs": [
    {
     "ename": "KeyError",
     "evalue": "'Ayquipa'",
     "output_type": "error",
     "traceback": [
      "\u001b[1;31m---------------------------------------------------------------------------\u001b[0m",
      "\u001b[1;31mKeyError\u001b[0m                                  Traceback (most recent call last)",
      "\u001b[1;32m~\\AppData\\Local\\Temp\\ipykernel_11480\\1404224495.py\u001b[0m in \u001b[0;36m<module>\u001b[1;34m\u001b[0m\n\u001b[1;32m----> 1\u001b[1;33m \u001b[0mconjunto_aula\u001b[0m\u001b[1;33m.\u001b[0m\u001b[0mremove\u001b[0m\u001b[1;33m(\u001b[0m\u001b[1;34m\"Ayquipa\"\u001b[0m\u001b[1;33m)\u001b[0m\u001b[1;33m\u001b[0m\u001b[1;33m\u001b[0m\u001b[0m\n\u001b[0m\u001b[0;32m      2\u001b[0m \u001b[0mconjunto_aula\u001b[0m\u001b[1;33m\u001b[0m\u001b[1;33m\u001b[0m\u001b[0m\n",
      "\u001b[1;31mKeyError\u001b[0m: 'Ayquipa'"
     ]
    }
   ],
   "source": [
    "conjunto_aula.remove(\"Ayquipa\")\n",
    "conjunto_aula"
   ]
  },
  {
   "cell_type": "code",
   "execution_count": 66,
   "id": "a1b309a3",
   "metadata": {},
   "outputs": [
    {
     "data": {
      "text/plain": [
       "{'Asuncion', 'Barzola', 'Caman', 'Curo'}"
      ]
     },
     "execution_count": 66,
     "metadata": {},
     "output_type": "execute_result"
    }
   ],
   "source": [
    "conjunto_aula"
   ]
  },
  {
   "cell_type": "code",
   "execution_count": 69,
   "id": "9576d5b9",
   "metadata": {},
   "outputs": [
    {
     "data": {
      "text/plain": [
       "{2: 'Asuncion', '1': 'Ayquipa', 'dos': 'Barzola', '3': 'Caman', '0': 'Curo'}"
      ]
     },
     "execution_count": 69,
     "metadata": {},
     "output_type": "execute_result"
    }
   ],
   "source": [
    "#Diccionario\n",
    "diccionario_aula={2:'Asuncion','1':'Ayquipa', 'dos':'Barzola', '3':'Caman', '0':'Curo'}\n",
    "diccionario_aula"
   ]
  },
  {
   "cell_type": "code",
   "execution_count": 72,
   "id": "8486d2a2",
   "metadata": {},
   "outputs": [
    {
     "data": {
      "text/plain": [
       "'Curo'"
      ]
     },
     "execution_count": 72,
     "metadata": {},
     "output_type": "execute_result"
    }
   ],
   "source": [
    "#Del diccionario_aula extraer un indice que se de 0 en string\n",
    "diccionario_aula[\"0\"]"
   ]
  },
  {
   "cell_type": "code",
   "execution_count": 74,
   "id": "e2912929",
   "metadata": {},
   "outputs": [
    {
     "data": {
      "text/plain": [
       "'Ayquipa'"
      ]
     },
     "execution_count": 74,
     "metadata": {},
     "output_type": "execute_result"
    }
   ],
   "source": [
    "diccionario_aula[\"1\"]"
   ]
  },
  {
   "cell_type": "code",
   "execution_count": 76,
   "id": "23977fff",
   "metadata": {},
   "outputs": [
    {
     "data": {
      "text/plain": [
       "'Asuncion'"
      ]
     },
     "execution_count": 76,
     "metadata": {},
     "output_type": "execute_result"
    }
   ],
   "source": [
    "diccionario_aula[2]"
   ]
  },
  {
   "cell_type": "code",
   "execution_count": 80,
   "id": "42573cb6",
   "metadata": {},
   "outputs": [
    {
     "data": {
      "text/plain": [
       "'Barzola'"
      ]
     },
     "execution_count": 80,
     "metadata": {},
     "output_type": "execute_result"
    }
   ],
   "source": [
    "diccionario_aula[\"dos\"]"
   ]
  },
  {
   "cell_type": "code",
   "execution_count": 82,
   "id": "7a30a968",
   "metadata": {},
   "outputs": [
    {
     "data": {
      "text/plain": [
       "{2: 'Asuncion',\n",
       " '1': 'Ayquipa',\n",
       " 'dos': 'Barzola',\n",
       " '3': 'Caman',\n",
       " '0': 'Curo',\n",
       " '20': 'Inca'}"
      ]
     },
     "execution_count": 82,
     "metadata": {},
     "output_type": "execute_result"
    }
   ],
   "source": [
    "diccionario_aula['20'] = \"Inca\"\n",
    "diccionario_aula"
   ]
  },
  {
   "cell_type": "code",
   "execution_count": 83,
   "id": "d82f6e24",
   "metadata": {},
   "outputs": [
    {
     "data": {
      "text/plain": [
       "'Asuncion'"
      ]
     },
     "execution_count": 83,
     "metadata": {},
     "output_type": "execute_result"
    }
   ],
   "source": [
    "diccionario_aula.pop(2)"
   ]
  },
  {
   "cell_type": "code",
   "execution_count": 85,
   "id": "aa526fee",
   "metadata": {},
   "outputs": [
    {
     "data": {
      "text/plain": [
       "{'1': 'Ayquipa', 'dos': 'Barzola', '3': 'Caman', '0': 'Curo', '20': 'Inca'}"
      ]
     },
     "execution_count": 85,
     "metadata": {},
     "output_type": "execute_result"
    }
   ],
   "source": [
    "diccionario_aula"
   ]
  },
  {
   "cell_type": "code",
   "execution_count": 87,
   "id": "f0b12907",
   "metadata": {},
   "outputs": [
    {
     "ename": "KeyError",
     "evalue": "'dos'",
     "output_type": "error",
     "traceback": [
      "\u001b[1;31m---------------------------------------------------------------------------\u001b[0m",
      "\u001b[1;31mKeyError\u001b[0m                                  Traceback (most recent call last)",
      "\u001b[1;32m~\\AppData\\Local\\Temp\\ipykernel_11480\\55944680.py\u001b[0m in \u001b[0;36m<module>\u001b[1;34m\u001b[0m\n\u001b[1;32m----> 1\u001b[1;33m \u001b[1;32mdel\u001b[0m\u001b[1;33m(\u001b[0m\u001b[0mdiccionario_aula\u001b[0m\u001b[1;33m[\u001b[0m\u001b[1;34m\"dos\"\u001b[0m\u001b[1;33m]\u001b[0m\u001b[1;33m)\u001b[0m\u001b[1;33m\u001b[0m\u001b[1;33m\u001b[0m\u001b[0m\n\u001b[0m\u001b[0;32m      2\u001b[0m \u001b[0mdiccionario_aula\u001b[0m\u001b[1;33m\u001b[0m\u001b[1;33m\u001b[0m\u001b[0m\n",
      "\u001b[1;31mKeyError\u001b[0m: 'dos'"
     ]
    }
   ],
   "source": [
    "#Eliminar usando \"del\"\n",
    "del(diccionario_aula[\"dos\"])\n",
    "diccionario_aula"
   ]
  },
  {
   "cell_type": "code",
   "execution_count": 89,
   "id": "3a1554e9",
   "metadata": {},
   "outputs": [
    {
     "ename": "SyntaxError",
     "evalue": "invalid syntax (1254697446.py, line 2)",
     "output_type": "error",
     "traceback": [
      "\u001b[1;36m  File \u001b[1;32m\"C:\\Users\\Alumno\\AppData\\Local\\Temp\\ipykernel_11480\\1254697446.py\"\u001b[1;36m, line \u001b[1;32m2\u001b[0m\n\u001b[1;33m    for indice in diccionario_aula\u001b[0m\n\u001b[1;37m                                  ^\u001b[0m\n\u001b[1;31mSyntaxError\u001b[0m\u001b[1;31m:\u001b[0m invalid syntax\n"
     ]
    }
   ],
   "source": [
    "#Recorrer los elementos usando for\n",
    "for indice in diccionario_aula\n",
    "print(indice)\n"
   ]
  },
  {
   "cell_type": "code",
   "execution_count": 90,
   "id": "b41229ad",
   "metadata": {},
   "outputs": [
    {
     "name": "stdout",
     "output_type": "stream",
     "text": [
      "1 Ayquipa\n",
      "3 Caman\n",
      "0 Curo\n",
      "20 Inca\n"
     ]
    }
   ],
   "source": [
    "for indice, valor in diccionario_aula.items():\n",
    "    print(indice,valor)"
   ]
  },
  {
   "cell_type": "code",
   "execution_count": null,
   "id": "84abdf3f",
   "metadata": {},
   "outputs": [],
   "source": []
  }
 ],
 "metadata": {
  "kernelspec": {
   "display_name": "Python 3 (ipykernel)",
   "language": "python",
   "name": "python3"
  },
  "language_info": {
   "codemirror_mode": {
    "name": "ipython",
    "version": 3
   },
   "file_extension": ".py",
   "mimetype": "text/x-python",
   "name": "python",
   "nbconvert_exporter": "python",
   "pygments_lexer": "ipython3",
   "version": "3.9.13"
  }
 },
 "nbformat": 4,
 "nbformat_minor": 5
}
