{
 "cells": [
  {
   "cell_type": "code",
   "execution_count": 1,
   "id": "09c17c78",
   "metadata": {},
   "outputs": [],
   "source": [
    "class Persona:\n",
    "    nombre=\"\"\n",
    "    apellidos=\"\"\n",
    "    dni=\"\"\n",
    "    talla=0"
   ]
  },
  {
   "cell_type": "code",
   "execution_count": 2,
   "id": "2a3caf2a",
   "metadata": {},
   "outputs": [],
   "source": [
    "persona1=Persona()"
   ]
  },
  {
   "cell_type": "code",
   "execution_count": 3,
   "id": "b467afc0",
   "metadata": {},
   "outputs": [
    {
     "ename": "NameError",
     "evalue": "name 'persona' is not defined",
     "output_type": "error",
     "traceback": [
      "\u001b[1;31m---------------------------------------------------------------------------\u001b[0m",
      "\u001b[1;31mNameError\u001b[0m                                 Traceback (most recent call last)",
      "\u001b[1;32m~\\AppData\\Local\\Temp\\ipykernel_9336\\279818911.py\u001b[0m in \u001b[0;36m<module>\u001b[1;34m\u001b[0m\n\u001b[0;32m      2\u001b[0m \u001b[0mpersona1\u001b[0m\u001b[1;33m.\u001b[0m\u001b[0mapellidos\u001b[0m\u001b[1;33m=\u001b[0m\u001b[1;34m\"Ayquip Estrada\"\u001b[0m\u001b[1;33m\u001b[0m\u001b[1;33m\u001b[0m\u001b[0m\n\u001b[0;32m      3\u001b[0m \u001b[0mpersona1\u001b[0m\u001b[1;33m.\u001b[0m\u001b[0mdni\u001b[0m\u001b[1;33m=\u001b[0m\u001b[1;34m\"74185247\"\u001b[0m\u001b[1;33m\u001b[0m\u001b[1;33m\u001b[0m\u001b[0m\n\u001b[1;32m----> 4\u001b[1;33m \u001b[0mpersona\u001b[0m\u001b[1;33m.\u001b[0m\u001b[0mtalla\u001b[0m\u001b[1;33m=\u001b[0m\u001b[1;36m1.7\u001b[0m\u001b[1;33m\u001b[0m\u001b[1;33m\u001b[0m\u001b[0m\n\u001b[0m",
      "\u001b[1;31mNameError\u001b[0m: name 'persona' is not defined"
     ]
    }
   ],
   "source": [
    "persona1.nombre=\"Orlando\"\n",
    "persona1.apellidos=\"Ayquip Estrada\"\n",
    "persona1.dni=\"74185247\"\n",
    "persona.talla=1.7"
   ]
  },
  {
   "cell_type": "code",
   "execution_count": 5,
   "id": "fff256bf",
   "metadata": {},
   "outputs": [
    {
     "name": "stdout",
     "output_type": "stream",
     "text": [
      "persona1\n",
      "Nombre: Orlando\n",
      "Apellidos: Ayquip Estrada\n",
      "DNI: 74185247\n",
      "Tall: 0\n"
     ]
    }
   ],
   "source": [
    "print(\"persona1\")\n",
    "print(f\"Nombre: {persona1.nombre}\")\n",
    "print(f\"Apellidos: {persona1.apellidos}\")\n",
    "print(f\"DNI: {persona1.dni}\")\n",
    "print(f\"Tall: {persona1.talla}\")"
   ]
  },
  {
   "cell_type": "code",
   "execution_count": 6,
   "id": "7a09b2bf",
   "metadata": {},
   "outputs": [],
   "source": [
    "#Para utilizar constructores utilizamos: _init_\n",
    "#¿Que esun constructor?\n"
   ]
  },
  {
   "cell_type": "code",
   "execution_count": 9,
   "id": "abb9ff8b",
   "metadata": {},
   "outputs": [],
   "source": [
    "class curso:\n",
    "    def __init__ (self, codigo, nombre, horas,creditos):\n",
    "        self.codigo=codigo\n",
    "        self.nombre=nombre\n",
    "        self.horas=horas\n",
    "        self.creditos=creditos\n",
    "    def mostrar_datos_curso(self):\n",
    "        print(f\"Curso:{self.nombre}\")\n",
    "        print(f\"Codigo:{self.codigo}\")\n",
    "        print(f\"Horas:{self.horas}\")\n",
    "        print(f\"Creditos: {self.creditos}\")"
   ]
  },
  {
   "cell_type": "code",
   "execution_count": 10,
   "id": "adddd17c",
   "metadata": {},
   "outputs": [],
   "source": [
    "curso1=curso(\"C0501\",\"LP3\",6,3)"
   ]
  },
  {
   "cell_type": "code",
   "execution_count": null,
   "id": "bb1b816d",
   "metadata": {},
   "outputs": [],
   "source": []
  },
  {
   "cell_type": "code",
   "execution_count": 11,
   "id": "bb25ca3d",
   "metadata": {},
   "outputs": [
    {
     "name": "stdout",
     "output_type": "stream",
     "text": [
      "Curso:LP3\n",
      "Codigo:C0501\n",
      "Horas:6\n",
      "Creditos: 3\n"
     ]
    }
   ],
   "source": [
    "curso1.mostrar_datos_curso();"
   ]
  },
  {
   "cell_type": "code",
   "execution_count": null,
   "id": "cbf4b27f",
   "metadata": {},
   "outputs": [],
   "source": []
  }
 ],
 "metadata": {
  "kernelspec": {
   "display_name": "Python 3 (ipykernel)",
   "language": "python",
   "name": "python3"
  },
  "language_info": {
   "codemirror_mode": {
    "name": "ipython",
    "version": 3
   },
   "file_extension": ".py",
   "mimetype": "text/x-python",
   "name": "python",
   "nbconvert_exporter": "python",
   "pygments_lexer": "ipython3",
   "version": "3.9.13"
  }
 },
 "nbformat": 4,
 "nbformat_minor": 5
}
