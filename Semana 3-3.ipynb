{
 "cells": [
  {
   "cell_type": "markdown",
   "id": "d996765d",
   "metadata": {},
   "source": [
    "# Semana 03 3\n",
    "Alumno. Ayquipa Estrda Jheremy William"
   ]
  },
  {
   "cell_type": "raw",
   "id": "81f519b9",
   "metadata": {},
   "source": [
    "# Temas:\n",
    "    1. Números\n",
    "    2. Variables\n",
    "    3. Manejo de cadenas\n",
    "    4. Ingreso de datos por teclado\n",
    "    5. Operadores"
   ]
  },
  {
   "cell_type": "code",
   "execution_count": 4,
   "id": "1e551462",
   "metadata": {},
   "outputs": [
    {
     "data": {
      "text/plain": [
       "'Universidad Nacional Tecnologica de Lima Sur'"
      ]
     },
     "execution_count": 4,
     "metadata": {},
     "output_type": "execute_result"
    }
   ],
   "source": [
    "cadena=\"Universidad Nacional Tecnologica de Lima Sur\"\n",
    "cadena"
   ]
  },
  {
   "cell_type": "code",
   "execution_count": 5,
   "id": "91e34701",
   "metadata": {},
   "outputs": [],
   "source": [
    "#Universidad Nacional Tecnologica de Lima Sur\n",
    "#0123 .................................-3-2-1"
   ]
  },
  {
   "cell_type": "code",
   "execution_count": 7,
   "id": "bfeeaf8b",
   "metadata": {},
   "outputs": [
    {
     "data": {
      "text/plain": [
       "'r'"
      ]
     },
     "execution_count": 7,
     "metadata": {},
     "output_type": "execute_result"
    }
   ],
   "source": [
    "cadena[5]"
   ]
  },
  {
   "cell_type": "code",
   "execution_count": 9,
   "id": "7d2fc8b3",
   "metadata": {},
   "outputs": [
    {
     "data": {
      "text/plain": [
       "'T'"
      ]
     },
     "execution_count": 9,
     "metadata": {},
     "output_type": "execute_result"
    }
   ],
   "source": [
    "cadena[-23]"
   ]
  },
  {
   "cell_type": "code",
   "execution_count": 11,
   "id": "f47ee0dd",
   "metadata": {},
   "outputs": [
    {
     "data": {
      "text/plain": [
       "'versi'"
      ]
     },
     "execution_count": 11,
     "metadata": {},
     "output_type": "execute_result"
    }
   ],
   "source": [
    "#Para mostrar un subcadena [dede, hasta una antes]\n",
    "#Java es substring[]\n",
    "cadena[3:8]"
   ]
  },
  {
   "cell_type": "code",
   "execution_count": 13,
   "id": "f38ad8a1",
   "metadata": {},
   "outputs": [
    {
     "data": {
      "text/plain": [
       "44"
      ]
     },
     "execution_count": 13,
     "metadata": {},
     "output_type": "execute_result"
    }
   ],
   "source": [
    "#para saber el tamaño de mi cadena utilizamos len()\n",
    "#incluye espacios en blanco\n",
    "len (cadena)"
   ]
  },
  {
   "cell_type": "code",
   "execution_count": 15,
   "id": "1083580a",
   "metadata": {},
   "outputs": [
    {
     "data": {
      "text/plain": [
       "'UNIVERSIDAD NACIONAL TECNOLOGICA DE LIMA SUR'"
      ]
     },
     "execution_count": 15,
     "metadata": {},
     "output_type": "execute_result"
    }
   ],
   "source": [
    "#Mostrar una cadena con mayusculas upper()\n",
    "cadena.upper()"
   ]
  },
  {
   "cell_type": "code",
   "execution_count": 17,
   "id": "8577c828",
   "metadata": {},
   "outputs": [
    {
     "data": {
      "text/plain": [
       "'universidad nacional tecnologica de lima sur'"
      ]
     },
     "execution_count": 17,
     "metadata": {},
     "output_type": "execute_result"
    }
   ],
   "source": [
    "#Mostar una cadena en minusculasu lower()\n",
    "cadena.lower()"
   ]
  },
  {
   "cell_type": "code",
   "execution_count": 19,
   "id": "94dd0867",
   "metadata": {},
   "outputs": [
    {
     "data": {
      "text/plain": [
       "['Universidad', 'Nacional', 'Tecnologica', 'de', 'Lima', 'Sur']"
      ]
     },
     "execution_count": 19,
     "metadata": {},
     "output_type": "execute_result"
    }
   ],
   "source": [
    "#Generar una lista a partir de la cadena.split()\n",
    "cadena.split()"
   ]
  },
  {
   "cell_type": "code",
   "execution_count": 21,
   "id": "0cf52770",
   "metadata": {},
   "outputs": [
    {
     "data": {
      "text/plain": [
       "['U', 'iversidad Nacio', 'al Tec', 'ologica de Lima Sur']"
      ]
     },
     "execution_count": 21,
     "metadata": {},
     "output_type": "execute_result"
    }
   ],
   "source": [
    "#Generar una lista utlizando el criterio de separacion a partir de una cadena.split\n",
    "# EDn este caso vamos a generear una lista de toada la cadena.\n",
    "#Utilizndo como criterio de serparacion la letra \"A\"\n",
    "cadena.split (\"n\")"
   ]
  },
  {
   "cell_type": "code",
   "execution_count": 23,
   "id": "b2b8fd3c",
   "metadata": {},
   "outputs": [
    {
     "name": "stdout",
     "output_type": "stream",
     "text": [
      "Buenos diasJheremy Ayquipa\n"
     ]
    }
   ],
   "source": [
    "#Forma clasica, concatenar con+\n",
    "nombre =\"Jheremy Ayquipa\"\n",
    "print(\"Buenos dias\"+ nombre)"
   ]
  },
  {
   "cell_type": "code",
   "execution_count": 26,
   "id": "4dc8541c",
   "metadata": {},
   "outputs": [
    {
     "name": "stdout",
     "output_type": "stream",
     "text": [
      "hola Jheremy Ayquipa ya se que tiene 19 años\n"
     ]
    }
   ],
   "source": [
    "#Utilizando el .format()\n",
    "nombre =\"Jheremy Ayquipa\"\n",
    "edad = 19\n",
    "print (\"hola {} ya se que tiene {} años\".format(nombre,edad))"
   ]
  },
  {
   "cell_type": "code",
   "execution_count": 29,
   "id": "ca559960",
   "metadata": {},
   "outputs": [
    {
     "name": "stdout",
     "output_type": "stream",
     "text": [
      "10/3 es = 3.3333333333333335\n",
      "10/3 es = 3.333\n"
     ]
    }
   ],
   "source": [
    "#Dar formato a numeros con muchos decimales\n",
    "resultado=10/3\n",
    "print(\"10/3 es = {}\".format(resultado))\n",
    "print(\"10/3 es = {r:1.3f}\".format(r=resultado))"
   ]
  },
  {
   "cell_type": "code",
   "execution_count": 31,
   "id": "fee29aaa",
   "metadata": {},
   "outputs": [
    {
     "name": "stdout",
     "output_type": "stream",
     "text": [
      "buenos dias Wiwi, ya se que tienes 12 años\n"
     ]
    }
   ],
   "source": [
    "#Dar formato con f\n",
    "#La funcion f, esta disponible la version 3.6\n",
    "nombre =\"Wiwi\"\n",
    "edad = \"12\"\n",
    "print(f\"buenos dias {nombre}, ya se que tienes {edad} años\")"
   ]
  },
  {
   "cell_type": "code",
   "execution_count": 32,
   "id": "d2bd04f7",
   "metadata": {},
   "outputs": [
    {
     "name": "stdout",
     "output_type": "stream",
     "text": [
      "10/3 es = 3.3333333333333335\n",
      "10/3 es = 3.333\n"
     ]
    }
   ],
   "source": [
    "#Dar formato a numeros con decimles con f\n",
    "resultado=10/3\n",
    "print(f\"10/3 es = {resultado}\")\n",
    "print(f\"10/3 es = {resultado:1.3f}\")"
   ]
  }
 ],
 "metadata": {
  "kernelspec": {
   "display_name": "Python 3 (ipykernel)",
   "language": "python",
   "name": "python3"
  },
  "language_info": {
   "codemirror_mode": {
    "name": "ipython",
    "version": 3
   },
   "file_extension": ".py",
   "mimetype": "text/x-python",
   "name": "python",
   "nbconvert_exporter": "python",
   "pygments_lexer": "ipython3",
   "version": "3.9.13"
  }
 },
 "nbformat": 4,
 "nbformat_minor": 5
}
