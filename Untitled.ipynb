{
 "cells": [
  {
   "cell_type": "markdown",
   "id": "59d1d2e2",
   "metadata": {},
   "source": [
    "# Semana 03 2\n",
    "Alumno. Ayquipa Estrda Jheremy William"
   ]
  },
  {
   "cell_type": "raw",
   "id": "5b257692",
   "metadata": {},
   "source": [
    "# Temas:\n",
    "    1. Números\n",
    "    2. Variables\n",
    "    3. Manejo de cadenas\n",
    "    4. Ingreso de datos por teclado\n",
    "    5. Operadores"
   ]
  },
  {
   "cell_type": "code",
   "execution_count": null,
   "id": "f15384b9",
   "metadata": {},
   "outputs": [],
   "source": [
    "#Siempre deben iniciar con una letra o un guion bjo\n",
    "#Nunca con numero o otro simbolo"
   ]
  },
  {
   "cell_type": "code",
   "execution_count": 1,
   "id": "5e12d665",
   "metadata": {},
   "outputs": [],
   "source": [
    "edad = 20"
   ]
  },
  {
   "cell_type": "code",
   "execution_count": 2,
   "id": "c7d15f20",
   "metadata": {},
   "outputs": [
    {
     "data": {
      "text/plain": [
       "20"
      ]
     },
     "execution_count": 2,
     "metadata": {},
     "output_type": "execute_result"
    }
   ],
   "source": [
    "edad"
   ]
  },
  {
   "cell_type": "code",
   "execution_count": 5,
   "id": "ec92ecaf",
   "metadata": {},
   "outputs": [],
   "source": [
    "nombre=\"Jheremy\""
   ]
  },
  {
   "cell_type": "code",
   "execution_count": 11,
   "id": "44f7649c",
   "metadata": {},
   "outputs": [
    {
     "data": {
      "text/plain": [
       "'Jheremy'"
      ]
     },
     "execution_count": 11,
     "metadata": {},
     "output_type": "execute_result"
    }
   ],
   "source": [
    "nombre"
   ]
  },
  {
   "cell_type": "code",
   "execution_count": 20,
   "id": "fb5b5f8f",
   "metadata": {},
   "outputs": [],
   "source": [
    "apellido =\"Ayquipa Estrada\""
   ]
  },
  {
   "cell_type": "code",
   "execution_count": 10,
   "id": "859b4252",
   "metadata": {},
   "outputs": [
    {
     "data": {
      "text/plain": [
       "'Ayquipa Estrada'"
      ]
     },
     "execution_count": 10,
     "metadata": {},
     "output_type": "execute_result"
    }
   ],
   "source": [
    "apellido"
   ]
  },
  {
   "cell_type": "code",
   "execution_count": 21,
   "id": "a793099b",
   "metadata": {},
   "outputs": [],
   "source": [
    "nombrecompleto = nombre + apellido"
   ]
  },
  {
   "cell_type": "code",
   "execution_count": 22,
   "id": "af6d8ad2",
   "metadata": {},
   "outputs": [
    {
     "data": {
      "text/plain": [
       "'JheremyAyquipa Estrada'"
      ]
     },
     "execution_count": 22,
     "metadata": {},
     "output_type": "execute_result"
    }
   ],
   "source": [
    "nombrecompleto"
   ]
  },
  {
   "cell_type": "markdown",
   "id": "85063c97",
   "metadata": {},
   "source": [
    "nombrecompleto = nombre + \" \" + apellido"
   ]
  },
  {
   "cell_type": "code",
   "execution_count": 24,
   "id": "b6483f46",
   "metadata": {},
   "outputs": [],
   "source": [
    "nombrecompleto = nombre + \" \" + apellido"
   ]
  },
  {
   "cell_type": "code",
   "execution_count": 26,
   "id": "75d4830a",
   "metadata": {},
   "outputs": [
    {
     "data": {
      "text/plain": [
       "'Jheremy Ayquipa Estrada'"
      ]
     },
     "execution_count": 26,
     "metadata": {},
     "output_type": "execute_result"
    }
   ],
   "source": [
    "nombrecompleto "
   ]
  },
  {
   "cell_type": "code",
   "execution_count": 28,
   "id": "7447b0fb",
   "metadata": {},
   "outputs": [
    {
     "data": {
      "text/plain": [
       "int"
      ]
     },
     "execution_count": 28,
     "metadata": {},
     "output_type": "execute_result"
    }
   ],
   "source": [
    "numero = 50\n",
    "type(numero)"
   ]
  },
  {
   "cell_type": "code",
   "execution_count": 30,
   "id": "a4b06bdb",
   "metadata": {},
   "outputs": [
    {
     "data": {
      "text/plain": [
       "str"
      ]
     },
     "execution_count": 30,
     "metadata": {},
     "output_type": "execute_result"
    }
   ],
   "source": [
    "type(nombre)"
   ]
  },
  {
   "cell_type": "code",
   "execution_count": 32,
   "id": "07c52ab0",
   "metadata": {},
   "outputs": [
    {
     "data": {
      "text/plain": [
       "1.7"
      ]
     },
     "execution_count": 32,
     "metadata": {},
     "output_type": "execute_result"
    }
   ],
   "source": [
    "talla = 1.70\n",
    "talla"
   ]
  },
  {
   "cell_type": "code",
   "execution_count": 33,
   "id": "7eb86d77",
   "metadata": {},
   "outputs": [
    {
     "data": {
      "text/plain": [
       "float"
      ]
     },
     "execution_count": 33,
     "metadata": {},
     "output_type": "execute_result"
    }
   ],
   "source": [
    "type(talla)"
   ]
  },
  {
   "cell_type": "code",
   "execution_count": 36,
   "id": "273c399f",
   "metadata": {},
   "outputs": [
    {
     "data": {
      "text/plain": [
       "'100'"
      ]
     },
     "execution_count": 36,
     "metadata": {},
     "output_type": "execute_result"
    }
   ],
   "source": [
    "#convirtiendo un numero en una cadena se utiliza str()\n",
    "numero = 100\n",
    "cadena = str(numero)\n",
    "cadena"
   ]
  },
  {
   "cell_type": "code",
   "execution_count": 38,
   "id": "45ae133a",
   "metadata": {},
   "outputs": [
    {
     "data": {
      "text/plain": [
       "10"
      ]
     },
     "execution_count": 38,
     "metadata": {},
     "output_type": "execute_result"
    }
   ],
   "source": [
    "#convirtiendo un cadena en un numero se utiliza int()\n",
    "cadena2= \"10\"\n",
    "numero2 = int(cadena2)\n",
    "numero2"
   ]
  },
  {
   "cell_type": "code",
   "execution_count": 39,
   "id": "fd7d1309",
   "metadata": {},
   "outputs": [
    {
     "data": {
      "text/plain": [
       "14.0"
      ]
     },
     "execution_count": 39,
     "metadata": {},
     "output_type": "execute_result"
    }
   ],
   "source": [
    "#convirtiendo un numero a un decimalutilizndo float()\n",
    "numero3 = 14\n",
    "decimal = float(numero3)\n",
    "decimal"
   ]
  }
 ],
 "metadata": {
  "kernelspec": {
   "display_name": "Python 3 (ipykernel)",
   "language": "python",
   "name": "python3"
  },
  "language_info": {
   "codemirror_mode": {
    "name": "ipython",
    "version": 3
   },
   "file_extension": ".py",
   "mimetype": "text/x-python",
   "name": "python",
   "nbconvert_exporter": "python",
   "pygments_lexer": "ipython3",
   "version": "3.9.13"
  }
 },
 "nbformat": 4,
 "nbformat_minor": 5
}
