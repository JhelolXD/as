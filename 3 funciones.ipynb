{
 "cells": [
  {
   "cell_type": "raw",
   "id": "c8ea3339",
   "metadata": {},
   "source": [
    "3. Funciones\n"
   ]
  },
  {
   "cell_type": "code",
   "execution_count": 4,
   "id": "a0583f5c",
   "metadata": {},
   "outputs": [],
   "source": [
    "def saludo():\n",
    "    print(\"Bienvenidos python\")\n",
    "    print(\"***python***\")"
   ]
  },
  {
   "cell_type": "code",
   "execution_count": 5,
   "id": "3d3a03e5",
   "metadata": {},
   "outputs": [
    {
     "name": "stdout",
     "output_type": "stream",
     "text": [
      "Bienvenidos python\n",
      "***python***\n"
     ]
    }
   ],
   "source": [
    "saludo()"
   ]
  },
  {
   "cell_type": "code",
   "execution_count": 6,
   "id": "48dab0e5",
   "metadata": {},
   "outputs": [],
   "source": [
    "def factorial(numero):\n",
    "    fac = 1\n",
    "    for i in range(1, numero+1):\n",
    "        fac*=1\n",
    "        #fac = fac*i\n",
    "    print(f\"El factorial es: {fac}\")\n",
    "    "
   ]
  },
  {
   "cell_type": "code",
   "execution_count": 8,
   "id": "a5817c49",
   "metadata": {},
   "outputs": [
    {
     "name": "stdout",
     "output_type": "stream",
     "text": [
      "Ingrese el numero2\n",
      "El factoril es: 1\n"
     ]
    }
   ],
   "source": [
    "numero = int(input(\"Ingrese el numero\"))\n",
    "factorial(numero)"
   ]
  },
  {
   "cell_type": "code",
   "execution_count": null,
   "id": "49f0b3d7",
   "metadata": {},
   "outputs": [],
   "source": []
  }
 ],
 "metadata": {
  "kernelspec": {
   "display_name": "Python 3 (ipykernel)",
   "language": "python",
   "name": "python3"
  },
  "language_info": {
   "codemirror_mode": {
    "name": "ipython",
    "version": 3
   },
   "file_extension": ".py",
   "mimetype": "text/x-python",
   "name": "python",
   "nbconvert_exporter": "python",
   "pygments_lexer": "ipython3",
   "version": "3.9.13"
  }
 },
 "nbformat": 4,
 "nbformat_minor": 5
}
