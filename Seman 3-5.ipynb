{
 "cells": [
  {
   "cell_type": "markdown",
   "id": "6fbdb593",
   "metadata": {},
   "source": [
    "# Semana 03\n",
    "Ayquipa Estrada Jheremy William"
   ]
  },
  {
   "cell_type": "raw",
   "id": "3d8380b3",
   "metadata": {},
   "source": [
    "# Temas:\n",
    "    1. Números\n",
    "    2. Variables\n",
    "    3. Manejo de cadenas\n",
    "    4. Ingreso de datos por teclado\n",
    "    5. Operadores"
   ]
  },
  {
   "cell_type": "markdown",
   "id": "a551b786",
   "metadata": {},
   "source": [
    "5. Operadores"
   ]
  },
  {
   "cell_type": "code",
   "execution_count": 7,
   "id": "d1c35c9b",
   "metadata": {},
   "outputs": [
    {
     "name": "stdout",
     "output_type": "stream",
     "text": [
      "13\n",
      "7\n",
      "30\n",
      "3.3333333333333335\n",
      "1000\n"
     ]
    }
   ],
   "source": [
    "#5.1 Operadors aritmeticos\n",
    "# Se tiene :+, -, *, /, **, %, //\n",
    "numero1=10\n",
    "numero2=3\n",
    "suma=numero1 + numero2\n",
    "resta=numero1 - numero2\n",
    "multiplicacion = numero1 * numero2\n",
    "division = numero1/numero2\n",
    "potencia = numero1 ** numero2\n",
    "\n",
    "print(suma)\n",
    "print(resta)\n",
    "print(multiplicacion)\n",
    "print(division)\n",
    "print(potencia)"
   ]
  },
  {
   "cell_type": "code",
   "execution_count": 9,
   "id": "6f3ffdb0",
   "metadata": {},
   "outputs": [
    {
     "name": "stdout",
     "output_type": "stream",
     "text": [
      "8\n"
     ]
    }
   ],
   "source": [
    "#Opercion nterior se agrega\n",
    "numero = 5\n",
    "numero += 3\n",
    "print(numero)"
   ]
  },
  {
   "cell_type": "code",
   "execution_count": 12,
   "id": "5707fd16",
   "metadata": {},
   "outputs": [
    {
     "name": "stdout",
     "output_type": "stream",
     "text": [
      "125\n"
     ]
    }
   ],
   "source": [
    "#La potencia se expres asi\n",
    "numero= 5\n",
    "numero= numero **3\n",
    "print(numero)"
   ]
  },
  {
   "cell_type": "code",
   "execution_count": 14,
   "id": "b8338d04",
   "metadata": {},
   "outputs": [
    {
     "name": "stdout",
     "output_type": "stream",
     "text": [
      "125\n"
     ]
    }
   ],
   "source": [
    "#La potencia se puede expresar de esta manera\n",
    "numero=5\n",
    "numero**=3\n",
    "print(numero)"
   ]
  },
  {
   "cell_type": "code",
   "execution_count": null,
   "id": "d82ec85d",
   "metadata": {},
   "outputs": [],
   "source": [
    "#Operadores de comparacion\n",
    "#Se tiene ==, !=, <, >, <=, >="
   ]
  },
  {
   "cell_type": "code",
   "execution_count": 16,
   "id": "2c6e399e",
   "metadata": {},
   "outputs": [
    {
     "data": {
      "text/plain": [
       "False"
      ]
     },
     "execution_count": 16,
     "metadata": {},
     "output_type": "execute_result"
    }
   ],
   "source": [
    "#Ejemplo de iguaoldad\n",
    "numero1 = 5\n",
    "numero2 = 2\n",
    "numero1 == numero2"
   ]
  },
  {
   "cell_type": "code",
   "execution_count": 30,
   "id": "88d5c0fd",
   "metadata": {},
   "outputs": [
    {
     "data": {
      "text/plain": [
       "True"
      ]
     },
     "execution_count": 30,
     "metadata": {},
     "output_type": "execute_result"
    }
   ],
   "source": [
    "nombre1 = \"Juan\"\n",
    "nombre2 = \"Juan\"\n",
    "nombre1 == nombre2"
   ]
  },
  {
   "cell_type": "code",
   "execution_count": 31,
   "id": "db4981dd",
   "metadata": {},
   "outputs": [],
   "source": [
    "#Operadores logicos\n",
    "numero1 = 5\n",
    "numero2 = 6\n",
    "numero3 = 7\n",
    "numero4 =8\n"
   ]
  },
  {
   "cell_type": "code",
   "execution_count": 33,
   "id": "352e839e",
   "metadata": {},
   "outputs": [
    {
     "data": {
      "text/plain": [
       "True"
      ]
     },
     "execution_count": 33,
     "metadata": {},
     "output_type": "execute_result"
    }
   ],
   "source": [
    "numero1 < numero2"
   ]
  },
  {
   "cell_type": "code",
   "execution_count": 35,
   "id": "cddbf45b",
   "metadata": {},
   "outputs": [
    {
     "data": {
      "text/plain": [
       "False"
      ]
     },
     "execution_count": 35,
     "metadata": {},
     "output_type": "execute_result"
    }
   ],
   "source": [
    "#El not invierte el resultado\n",
    "not(numero1<numero2)"
   ]
  },
  {
   "cell_type": "code",
   "execution_count": 37,
   "id": "46d0c7de",
   "metadata": {},
   "outputs": [
    {
     "data": {
      "text/plain": [
       "True"
      ]
     },
     "execution_count": 37,
     "metadata": {},
     "output_type": "execute_result"
    }
   ],
   "source": [
    "numero1<numero2 and numero3<numero4"
   ]
  },
  {
   "cell_type": "code",
   "execution_count": 39,
   "id": "5a4e8ce6",
   "metadata": {},
   "outputs": [
    {
     "data": {
      "text/plain": [
       "True"
      ]
     },
     "execution_count": 39,
     "metadata": {},
     "output_type": "execute_result"
    }
   ],
   "source": [
    "#Tambien puedes utilizar parentesis para ordenar tu operacion\n",
    "(numero1<numero2 and numero3<numero4) or (numero3>numero4)"
   ]
  },
  {
   "cell_type": "code",
   "execution_count": 40,
   "id": "46f61948",
   "metadata": {},
   "outputs": [],
   "source": [
    "#Operadores de perteneci\n",
    "#Se tiene in, not in"
   ]
  },
  {
   "cell_type": "code",
   "execution_count": 41,
   "id": "8cb40ed2",
   "metadata": {},
   "outputs": [],
   "source": [
    "#Miremos un ejemplo\n",
    "aula =[\"Juan\", \"Daniel\" , \"Ruben\"]\n",
    "alumno1 = \"Diego\"\n",
    "alumno2 = \"Juan\""
   ]
  },
  {
   "cell_type": "code",
   "execution_count": 43,
   "id": "e9db5524",
   "metadata": {},
   "outputs": [
    {
     "data": {
      "text/plain": [
       "False"
      ]
     },
     "execution_count": 43,
     "metadata": {},
     "output_type": "execute_result"
    }
   ],
   "source": [
    "#Diego estaen el aula?\n",
    "alumno1 in aula"
   ]
  },
  {
   "cell_type": "code",
   "execution_count": 45,
   "id": "570e78d2",
   "metadata": {},
   "outputs": [
    {
     "data": {
      "text/plain": [
       "True"
      ]
     },
     "execution_count": 45,
     "metadata": {},
     "output_type": "execute_result"
    }
   ],
   "source": [
    "#Jua esta en aula?\n",
    "alumno2 in aula"
   ]
  },
  {
   "cell_type": "code",
   "execution_count": 47,
   "id": "e8819fda",
   "metadata": {},
   "outputs": [
    {
     "data": {
      "text/plain": [
       "True"
      ]
     },
     "execution_count": 47,
     "metadata": {},
     "output_type": "execute_result"
    }
   ],
   "source": [
    "#Diego no esta en el aula?\n",
    "alumno1 not in aula"
   ]
  },
  {
   "cell_type": "code",
   "execution_count": 49,
   "id": "d338caf2",
   "metadata": {},
   "outputs": [
    {
     "data": {
      "text/plain": [
       "False"
      ]
     },
     "execution_count": 49,
     "metadata": {},
     "output_type": "execute_result"
    }
   ],
   "source": [
    "#Juan no esta en el aula?\n",
    "alumno2 not in aula"
   ]
  },
  {
   "cell_type": "code",
   "execution_count": 55,
   "id": "4054727c",
   "metadata": {},
   "outputs": [],
   "source": [
    "#Operadores de identidad \n",
    "#Se tiene: is, is not\n",
    "aula1 =[\"Juan\", \"Daniel\" , \"Ruben\"]\n",
    "aula2 =[\"Juan\", \"Daniel\" , \"Ruben\"]\n",
    "#Procederemos a indicr que aula3 va a compartir con el mismo objeto de aula1\n",
    "aula3 = aula1"
   ]
  },
  {
   "cell_type": "code",
   "execution_count": 57,
   "id": "86fe1be0",
   "metadata": {},
   "outputs": [
    {
     "data": {
      "text/plain": [
       "True"
      ]
     },
     "execution_count": 57,
     "metadata": {},
     "output_type": "execute_result"
    }
   ],
   "source": [
    "#Aula3 comparte lo mismo con aula1\n",
    "aula3 is aula1"
   ]
  },
  {
   "cell_type": "code",
   "execution_count": 62,
   "id": "a4b24c1d",
   "metadata": {},
   "outputs": [
    {
     "data": {
      "text/plain": [
       "True"
      ]
     },
     "execution_count": 62,
     "metadata": {},
     "output_type": "execute_result"
    }
   ],
   "source": [
    "#Aula3 no comparte lo mismo con aula2\n",
    "aula3 is not aula2"
   ]
  },
  {
   "cell_type": "code",
   "execution_count": 61,
   "id": "84ac94e1",
   "metadata": {},
   "outputs": [
    {
     "data": {
      "text/plain": [
       "False"
      ]
     },
     "execution_count": 61,
     "metadata": {},
     "output_type": "execute_result"
    }
   ],
   "source": [
    "#Aula3 comparte lo mismo con aula2\n",
    "aula3 is aula2"
   ]
  },
  {
   "cell_type": "code",
   "execution_count": 66,
   "id": "09e563b7",
   "metadata": {},
   "outputs": [],
   "source": [
    "aula1.append(\"Diego\")\n",
    "            "
   ]
  },
  {
   "cell_type": "code",
   "execution_count": 68,
   "id": "ac8bc4e9",
   "metadata": {},
   "outputs": [
    {
     "name": "stdout",
     "output_type": "stream",
     "text": [
      "['Juan', 'Daniel', 'Ruben', 'Diego']\n"
     ]
    }
   ],
   "source": [
    "#Al imprimir los elementos de la lista aula1 se observa\n",
    "print(aula1)"
   ]
  },
  {
   "cell_type": "code",
   "execution_count": 70,
   "id": "71c9021c",
   "metadata": {},
   "outputs": [
    {
     "name": "stdout",
     "output_type": "stream",
     "text": [
      "['Juan', 'Daniel', 'Ruben', 'Diego']\n"
     ]
    }
   ],
   "source": [
    "#Al imprimir los elementos de la aula3 se observa\n",
    "print(aula3)"
   ]
  },
  {
   "cell_type": "code",
   "execution_count": 71,
   "id": "68ad3491",
   "metadata": {},
   "outputs": [
    {
     "name": "stdout",
     "output_type": "stream",
     "text": [
      "['Juan', 'Daniel', 'Ruben']\n"
     ]
    }
   ],
   "source": [
    "#Al imprimir los elementos de la aula2 se observa\n",
    "print(aula2)"
   ]
  },
  {
   "cell_type": "code",
   "execution_count": null,
   "id": "26bd83eb",
   "metadata": {},
   "outputs": [],
   "source": []
  }
 ],
 "metadata": {
  "kernelspec": {
   "display_name": "Python 3 (ipykernel)",
   "language": "python",
   "name": "python3"
  },
  "language_info": {
   "codemirror_mode": {
    "name": "ipython",
    "version": 3
   },
   "file_extension": ".py",
   "mimetype": "text/x-python",
   "name": "python",
   "nbconvert_exporter": "python",
   "pygments_lexer": "ipython3",
   "version": "3.9.13"
  }
 },
 "nbformat": 4,
 "nbformat_minor": 5
}
