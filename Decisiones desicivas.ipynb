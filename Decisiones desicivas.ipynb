{
 "cells": [
  {
   "cell_type": "markdown",
   "id": "7d4f6179",
   "metadata": {},
   "source": [
    "# Semana 05"
   ]
  },
  {
   "cell_type": "raw",
   "id": "6a645122",
   "metadata": {},
   "source": [
    " Mg Flor Elizabeth Cerdán Leon \n",
    "temas:\n",
    "    1. Colecciones de datos\n",
    "    2. Estructurs decisivas\n",
    "    3. Clases y objetos\n",
    "    4. fuciones"
   ]
  },
  {
   "cell_type": "markdown",
   "id": "48055fec",
   "metadata": {},
   "source": [
    "2. Estructuras decisivas"
   ]
  },
  {
   "cell_type": "code",
   "execution_count": 2,
   "id": "dd4bce6d",
   "metadata": {},
   "outputs": [],
   "source": [
    "#Estructuras decisivas (if, elif, else)\n"
   ]
  },
  {
   "cell_type": "code",
   "execution_count": 3,
   "id": "14183271",
   "metadata": {},
   "outputs": [
    {
     "name": "stdout",
     "output_type": "stream",
     "text": [
      "Producto 1: 412\n",
      "Producto 2: 7789\n",
      "Producto 3: 475\n",
      "El total a pagares: 7808.400000000001\n"
     ]
    }
   ],
   "source": [
    "P1 = float(input(\"Producto 1: \"))\n",
    "P2 = float(input(\"Producto 2: \"))\n",
    "P3 = float(input(\"Producto 3: \"))\n",
    "total = P1+P2+P3\n",
    "if total >= 1000:\n",
    "    total*=0.9\n",
    "print(f\"El total a pagares: {total}\")"
   ]
  },
  {
   "cell_type": "code",
   "execution_count": null,
   "id": "baa2dae6",
   "metadata": {},
   "outputs": [],
   "source": []
  },
  {
   "cell_type": "code",
   "execution_count": null,
   "id": "682194a8",
   "metadata": {},
   "outputs": [],
   "source": []
  },
  {
   "cell_type": "code",
   "execution_count": 16,
   "id": "1cd4081e",
   "metadata": {},
   "outputs": [
    {
     "name": "stdout",
     "output_type": "stream",
     "text": [
      "Ingrese el apellido: Aquino\n",
      "no pertenece al salón\n"
     ]
    }
   ],
   "source": [
    "salon = [\"ASUNCION\", \"AYQUIPA\", \"BARZOLA\", \"CAMAN\", \"CURO\", \"INCA\", \"SAHUMA\",\n",
    "\"TALLEDO\", \"URBISAGASTEGUI\"]\n",
    "apellido = input(\"Ingrese el apellido: \")\n",
    "if apellido.upper() in salon:\n",
    "    print(\"pertenece al salón\")\n",
    "else:\n",
    "    print(\"no pertenece al salón\")"
   ]
  },
  {
   "cell_type": "code",
   "execution_count": 17,
   "id": "ed7a70c1",
   "metadata": {},
   "outputs": [
    {
     "name": "stdout",
     "output_type": "stream",
     "text": [
      "Importe de ventas realizada: 1458\n",
      "Categoria B\n"
     ]
    }
   ],
   "source": [
    "# elif\n",
    "# Problema 03, Solucionar el problema anterior utilizando elif\n",
    "\n",
    "# Dado el importe total de ventas realizadas por un trabajador (ingresado por teclado)\n",
    "# Categorizar que tipo de empleado es, considerando la siguiente tabla:\n",
    "\n",
    "# Categoría A -> [0, 1000]\n",
    "# Categoría B -> <1000, 2000]\n",
    "# Categoría C -> <2000, 5000]\n",
    "# Categoría D -> <0, 1000]\n",
    "\n",
    "ventas = float(input(\"Importe de ventas realizada: \"))\n",
    "if ventas < 0:\n",
    "    print(\"Datos erroneas\")\n",
    "else:\n",
    "    if ventas <= 1000:\n",
    "        print(\"Categoria A\")\n",
    "    else:\n",
    "        if ventas <= 2000:\n",
    "            print(\"Categoria B\")\n",
    "        else:\n",
    "            if ventas <=5000:\n",
    "                print(\"Categoria C\")\n",
    "            else: \n",
    "                print(\"Cateogira D\")\n",
    "     "
   ]
  },
  {
   "cell_type": "code",
   "execution_count": 18,
   "id": "10e40b7e",
   "metadata": {},
   "outputs": [
    {
     "name": "stdout",
     "output_type": "stream",
     "text": [
      "inca\n",
      "Barzola\n",
      "Urbisagastegui\n",
      "Caman\n"
     ]
    }
   ],
   "source": [
    "aula = [\"inca\",\"Barzola\",\"Urbisagastegui\",\"Caman\"]\n",
    "for alumno in aula:\n",
    "    print(alumno)"
   ]
  },
  {
   "cell_type": "code",
   "execution_count": 20,
   "id": "db0b2f5b",
   "metadata": {},
   "outputs": [
    {
     "name": "stdout",
     "output_type": "stream",
     "text": [
      "Inserte cadena: hol\n",
      "h\n",
      "o\n",
      "l\n"
     ]
    }
   ],
   "source": [
    "cadena = input(\"Inserte cadena: \")\n",
    "for caracter in cadena:\n",
    "    print (caracter)"
   ]
  },
  {
   "cell_type": "code",
   "execution_count": 21,
   "id": "a1ad594b",
   "metadata": {},
   "outputs": [
    {
     "data": {
      "text/plain": [
       "range(0, 5)"
      ]
     },
     "execution_count": 21,
     "metadata": {},
     "output_type": "execute_result"
    }
   ],
   "source": [
    "#Generar rango de numeros usando range()\n",
    "range(5)"
   ]
  },
  {
   "cell_type": "code",
   "execution_count": 22,
   "id": "9d1bd002",
   "metadata": {},
   "outputs": [
    {
     "name": "stdout",
     "output_type": "stream",
     "text": [
      "0\n",
      "1\n",
      "2\n",
      "3\n",
      "4\n",
      "5\n",
      "6\n",
      "7\n",
      "8\n",
      "9\n",
      "10\n"
     ]
    }
   ],
   "source": [
    "#Imprimir numeros de 0 a 10 usando for\n",
    "for numero in range(11):\n",
    "    print(numero)"
   ]
  },
  {
   "cell_type": "code",
   "execution_count": 23,
   "id": "22c6ea3b",
   "metadata": {},
   "outputs": [
    {
     "name": "stdout",
     "output_type": "stream",
     "text": [
      "5\n",
      "6\n",
      "7\n",
      "8\n",
      "9\n",
      "10\n"
     ]
    }
   ],
   "source": [
    "for numero in range(5,11):\n",
    "    print(numero)"
   ]
  },
  {
   "cell_type": "code",
   "execution_count": 26,
   "id": "cd8feebe",
   "metadata": {},
   "outputs": [
    {
     "name": "stdout",
     "output_type": "stream",
     "text": [
      "5\n",
      "12\n",
      "19\n",
      "26\n"
     ]
    }
   ],
   "source": [
    "for numero in range(5,30,7):\n",
    "    print(numero)"
   ]
  },
  {
   "cell_type": "code",
   "execution_count": 27,
   "id": "a8e8d986",
   "metadata": {},
   "outputs": [
    {
     "name": "stdout",
     "output_type": "stream",
     "text": [
      "1\n",
      "2\n",
      "3\n",
      "4\n",
      "5\n",
      "6\n",
      "7\n",
      "8\n",
      "9\n",
      "10\n"
     ]
    }
   ],
   "source": [
    "numero = 1\n",
    "fin = 10\n",
    "while numero <= fin:\n",
    "    print(numero)\n",
    "    numero+=1"
   ]
  },
  {
   "cell_type": "code",
   "execution_count": null,
   "id": "e7c2821f",
   "metadata": {},
   "outputs": [],
   "source": []
  }
 ],
 "metadata": {
  "kernelspec": {
   "display_name": "Python 3 (ipykernel)",
   "language": "python",
   "name": "python3"
  },
  "language_info": {
   "codemirror_mode": {
    "name": "ipython",
    "version": 3
   },
   "file_extension": ".py",
   "mimetype": "text/x-python",
   "name": "python",
   "nbconvert_exporter": "python",
   "pygments_lexer": "ipython3",
   "version": "3.9.13"
  }
 },
 "nbformat": 4,
 "nbformat_minor": 5
}
